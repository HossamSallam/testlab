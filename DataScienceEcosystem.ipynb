{
 "cells": [
  {
   "cell_type": "markdown",
   "id": "b69fbeaf-9fe3-4244-bc84-4e00627e6a26",
   "metadata": {
    "tags": []
   },
   "source": [
    "# Data Science Tools and Ecosystem"
   ]
  },
  {
   "cell_type": "markdown",
   "id": "973e37ee-6c1e-44c3-935a-1782e7d087ca",
   "metadata": {},
   "source": [
    "### In this notebook, Data Science Tools and Ecosystem are summarized."
   ]
  },
  {
   "cell_type": "markdown",
   "id": "e0b781a2-d5cc-41d6-9f99-fffc00463b95",
   "metadata": {
    "tags": []
   },
   "source": [
    "***Objectives:***\n",
    "\n",
    "* First python\n",
    "* Second R\n",
    "* Third Jupyterlab\n"
   ]
  },
  {
   "cell_type": "markdown",
   "id": "bd2b64c0-af0a-44fe-a7af-838d586706ed",
   "metadata": {
    "tags": []
   },
   "source": [
    "### Some of the popular languages that Data Scientists use are:\n",
    "- python \n",
    "- Jupyterlab\n",
    "- R \n",
    "- VCode"
   ]
  },
  {
   "cell_type": "markdown",
   "id": "f075e679-9723-4078-aa19-30337cc94f67",
   "metadata": {},
   "source": [
    "### Some of the commonly used libraries used by Data Scientists include:\n",
    "\n",
    "1. pandas\n",
    "2. numpy\n",
    "3. matplotlib\n",
    "4. ggplot"
   ]
  },
  {
   "cell_type": "markdown",
   "id": "5c107e8e-effe-4d17-8750-7c94f5e407d0",
   "metadata": {},
   "source": [
    "### Data Science Tools\n",
    "\n",
    "|No. |Tools\n",
    "| ------ | ------ \n",
    "| 1 | Python \n",
    "| 2 | R      \n",
    "| 3 | Jupyterlab\n",
    "\n",
    "\n",
    "    "
   ]
  },
  {
   "cell_type": "markdown",
   "id": "b2926d5b-0774-4393-8531-5761bd3d7129",
   "metadata": {
    "tags": []
   },
   "source": [
    "### Below are a few examples of evaluating arithmetic expressions in Python."
   ]
  },
  {
   "cell_type": "code",
   "execution_count": 6,
   "id": "52826d9a-d454-4916-bb1b-318556f373aa",
   "metadata": {
    "tags": []
   },
   "outputs": [
    {
     "data": {
      "text/plain": [
       "17"
      ]
     },
     "execution_count": 6,
     "metadata": {},
     "output_type": "execute_result"
    }
   ],
   "source": [
    "#this a simple arithmetic expression to mutiply then add integers\n",
    "\n",
    "(3*4)+5\n"
   ]
  },
  {
   "cell_type": "code",
   "execution_count": 7,
   "id": "037bc13f-b55a-45d9-92a9-e71df25eaf79",
   "metadata": {
    "tags": []
   },
   "outputs": [
    {
     "data": {
      "text/plain": [
       "3.3333333333333335"
      ]
     },
     "execution_count": 7,
     "metadata": {},
     "output_type": "execute_result"
    }
   ],
   "source": [
    "#This will convert 200 minutes to hours by diving by 60\n",
    "\n",
    "200/60\n"
   ]
  },
  {
   "cell_type": "markdown",
   "id": "527b86d9-c934-4d53-a486-7e7aa36a7ba7",
   "metadata": {},
   "source": [
    "## Author \n",
    "Hossam Sallam"
   ]
  },
  {
   "cell_type": "code",
   "execution_count": null,
   "id": "e284c8e5-735c-4094-82cc-95021727bbd7",
   "metadata": {},
   "outputs": [],
   "source": []
  }
 ],
 "metadata": {
  "kernelspec": {
   "display_name": "Python",
   "language": "python",
   "name": "conda-env-python-py"
  },
  "language_info": {
   "codemirror_mode": {
    "name": "ipython",
    "version": 3
   },
   "file_extension": ".py",
   "mimetype": "text/x-python",
   "name": "python",
   "nbconvert_exporter": "python",
   "pygments_lexer": "ipython3",
   "version": "3.7.12"
  }
 },
 "nbformat": 4,
 "nbformat_minor": 5
}
